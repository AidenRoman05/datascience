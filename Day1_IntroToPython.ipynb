{
  "nbformat": 4,
  "nbformat_minor": 0,
  "metadata": {
    "colab": {
      "name": "Day1_IntroToPython.ipynb",
      "provenance": [],
      "collapsed_sections": [],
      "authorship_tag": "ABX9TyPWeIGitYIHRHpPC/A1v+oi",
      "include_colab_link": true
    },
    "kernelspec": {
      "name": "python3",
      "display_name": "Python 3"
    },
    "language_info": {
      "name": "python"
    }
  },
  "cells": [
    {
      "cell_type": "markdown",
      "metadata": {
        "id": "view-in-github",
        "colab_type": "text"
      },
      "source": [
        "<a href=\"https://colab.research.google.com/github/RodericGuigoCorominas/datascience/blob/main/Day1_IntroToPython.ipynb\" target=\"_parent\"><img src=\"https://colab.research.google.com/assets/colab-badge.svg\" alt=\"Open In Colab\"/></a>"
      ]
    },
    {
      "cell_type": "markdown",
      "source": [
        "# An introduction to Python\n",
        "In this course, we will be mostly using Python to solve equations, analyse data and run simulations. You can think of it as a calculator that allows us to perform a wide range of things. For this reason, you'll have to learn the appropriate syntax: how to type instructions so that the computer can appropriately interpret them.\n",
        "\n",
        "Today, we will start with an introduction to Python using iPython notebooks. There are a few basics you need to know:\n",
        "\n",
        "*   The code, that is, your instructions, is written in \"cells\" or \"blocks\". Each cell will contain a certain number of instructions. You can create a new code cell by clicking on **+ Code** or a text cell (like this one) by clicking on **+ Text**.\n",
        "*   To execute the instructions in a code cell you must \"run\" the cell. If you do that, all the instructions in a single cell will be executed. In order to run a cell, you must click the ▶ button on the left of the cell, or press **Shift+Enter**\n",
        "*   All the lines in a code cell will be interpreted as Python instructions, with one exception! Any line starting with a hash # will be ignored. You can use that to write explanatory notes about your code. \n",
        "\n",
        "We will now walk you through some of the basics of Python notebooks. \n",
        "The easiest way you can use cells is as a calculator (make sure you remember the order of operations). After running the cell below, you should be able to see the result of the calculation."
      ],
      "metadata": {
        "id": "IpVpWCDor5zm"
      }
    },
    {
      "cell_type": "code",
      "execution_count": 4,
      "metadata": {
        "id": "6lR3nvkOiRjc",
        "colab": {
          "base_uri": "https://localhost:8080/"
        },
        "outputId": "3f5d46bf-126f-41c6-fc68-476f1bddbdb3"
      },
      "outputs": [
        {
          "output_type": "execute_result",
          "data": {
            "text/plain": [
              "1"
            ]
          },
          "metadata": {},
          "execution_count": 4
        }
      ],
      "source": [
        "2 * 5 - 9"
      ]
    },
    {
      "cell_type": "markdown",
      "source": [
        "If you write more than one operation in a cell, you'll only be able to see the result of the last operation."
      ],
      "metadata": {
        "id": "SWqKUlPAOZ61"
      }
    },
    {
      "cell_type": "code",
      "source": [
        "3 - 9 / 6\n",
        "10 / 4"
      ],
      "metadata": {
        "colab": {
          "base_uri": "https://localhost:8080/"
        },
        "id": "FyK6xmj4OgsS",
        "outputId": "b0a909cd-6d76-4adb-fd4e-4c3d759b8894"
      },
      "execution_count": 5,
      "outputs": [
        {
          "output_type": "execute_result",
          "data": {
            "text/plain": [
              "2.5"
            ]
          },
          "metadata": {},
          "execution_count": 5
        }
      ]
    },
    {
      "cell_type": "markdown",
      "source": [
        "The first and most important command you need to know is `print`. It takes in any number of inputs, and prints them out on one line of text. For example, \n",
        "\n",
        "Sometimes, you want to document the code that you write. For example, you may want to note wwhat a piece of code does. To do it, you use the comments. To create a block comment, you start with a single hash sign `#` followed by a single space and a text string."
      ],
      "metadata": {
        "id": "7yAlcSy2NpTz"
      }
    },
    {
      "cell_type": "code",
      "source": [
        "# this line is just a comment, so the computer ignores it \n",
        "# the line below prints a sentence\n",
        "print(\"Hello World! Here is some code.\")\n",
        "\n",
        "# the line below prints the result of 2 + 2 * 3\n",
        "print(2 + 2 * 3)"
      ],
      "metadata": {
        "id": "gshS2spRNwZO",
        "colab": {
          "base_uri": "https://localhost:8080/"
        },
        "outputId": "7c402bf3-b4ac-4bed-e0e8-38ed0e2dd185"
      },
      "execution_count": 6,
      "outputs": [
        {
          "output_type": "stream",
          "name": "stdout",
          "text": [
            "Hello World! Here is some code.\n",
            "8\n"
          ]
        }
      ]
    },
    {
      "cell_type": "markdown",
      "source": [
        "## Variables and Operations"
      ],
      "metadata": {
        "id": "I8boJIiSwms8"
      }
    },
    {
      "cell_type": "code",
      "source": [
        "# assign to a the value 1\n",
        "a = 1\n",
        "# assign to b the value 2\n",
        "b = 2\n",
        "# assign to c the value of a + b\n",
        "c = a + b\n",
        "# print the values of a, b and c\n",
        "print('a =',a,' b =',b,' c =',c)"
      ],
      "metadata": {
        "colab": {
          "base_uri": "https://localhost:8080/"
        },
        "id": "tcjtQ0oqwjE4",
        "outputId": "f4f0e541-2bb6-4007-fd96-dad2e8f6cb9c"
      },
      "execution_count": 7,
      "outputs": [
        {
          "output_type": "stream",
          "name": "stdout",
          "text": [
            "a = 1  b = 2  c = 3\n"
          ]
        }
      ]
    },
    {
      "cell_type": "code",
      "source": [
        "# example of a string\n",
        "ex_str = \"hello\"\n",
        "# example of an integer\n",
        "ex_int = 2\n",
        "# example of a decimal number\n",
        "ex_float = 2.5\n",
        "# example of a boolean (true or false) value\n",
        "ex_bool = True\n",
        "# example of a list of values \n",
        "ex_list = [1, 2, 3, \"four\", False]\n",
        "\n",
        "# print on the screen these values and their types\n",
        "print(ex_str,\" is a \", type(ex_str))\n",
        "print(ex_int,\" is a \", type(ex_int))\n",
        "print(ex_float,\" is a \", type(ex_float))\n",
        "print(ex_bool,\" is a \", type(ex_bool))\n",
        "print(ex_list,\" is a \", type(ex_list))"
      ],
      "metadata": {
        "colab": {
          "base_uri": "https://localhost:8080/"
        },
        "id": "m0Lo1SdW2BnR",
        "outputId": "ef3fa406-38ec-4bd6-d3f2-870ea0ca9a9c"
      },
      "execution_count": 8,
      "outputs": [
        {
          "output_type": "stream",
          "name": "stdout",
          "text": [
            "hello  is a  <class 'str'>\n",
            "2  is a  <class 'int'>\n",
            "2.5  is a  <class 'float'>\n",
            "True  is a  <class 'bool'>\n",
            "[1, 2, 3, 'four', False]  is a  <class 'list'>\n"
          ]
        }
      ]
    },
    {
      "cell_type": "markdown",
      "source": [
        "## Libraries\n",
        "A library is a collection of codes that can be used later on in a program for some specific well-defined operations. In order to allow Python to use certain functions, one must load the corresponding library. Python libraries play a very vital role in fields of Machine Learning, Data Science, Data Visualization, etc.\n",
        "\n",
        "*   To import a library, use `import`\n",
        "\n",
        "Here are some libraries we will be using today\n",
        "\n",
        "*   **Math** is a module that provides access to the mathematical functions\n",
        "*   **NumPy** is a Python library used for working with arrays. It also has functions for working in domain of linear algebra, fourier transform, and matrices: `import numpy as np`\n",
        "\n",
        "When using functions in libraries, they have to be preceeded by the library name:"
      ],
      "metadata": {
        "id": "sjHHR8gbwsVo"
      }
    },
    {
      "cell_type": "code",
      "source": [
        "# import math operations library \"math\"\n",
        "import math\n",
        "print(math.log(10))\n",
        "print(math.tanh(9))"
      ],
      "metadata": {
        "colab": {
          "base_uri": "https://localhost:8080/"
        },
        "id": "4bPj3aOHCrHU",
        "outputId": "eaf82873-2b3b-4a4d-f135-b4cb88894762"
      },
      "execution_count": 9,
      "outputs": [
        {
          "output_type": "stream",
          "name": "stdout",
          "text": [
            "2.302585092994046\n",
            "0.999999969540041\n"
          ]
        }
      ]
    },
    {
      "cell_type": "markdown",
      "source": [
        "### Vectors\n",
        "Vectors in Python can be represented as lists using square brackets `[]`. For example, the vector $v_1=\\begin{bmatrix} 1\\\\ 2 \\\\ 3 \\end{bmatrix}$ can be represented as `v1 = [1, 2, 3]`. Depending on the functionalty we want, we may want to declare it as a NumPy array; in this case we would write `v2 = np.array([1, 2, 3])`."
      ],
      "metadata": {
        "id": "_2N4cf8YJJeo"
      }
    },
    {
      "cell_type": "code",
      "source": [
        "# this is a the vector (1, 2, 3)\n",
        "v1 = [1, 2, 3]\n",
        "\n",
        "# import numpy library and call it \"np\"\n",
        "import numpy as np\n",
        "\n",
        "# the same vector as v1, but now as a numpy array\n",
        "v2 = np.array([1, 2, 3])\n",
        "\n",
        "print(v1)\n",
        "print(v2)"
      ],
      "metadata": {
        "id": "eKNH6zRHJQ8Z",
        "colab": {
          "base_uri": "https://localhost:8080/"
        },
        "outputId": "59cdcf36-f5bc-4f3b-bdd3-8a59e73c6817"
      },
      "execution_count": 10,
      "outputs": [
        {
          "output_type": "stream",
          "name": "stdout",
          "text": [
            "[1, 2, 3]\n",
            "[1 2 3]\n"
          ]
        }
      ]
    },
    {
      "cell_type": "markdown",
      "source": [
        "NumPy arrays allow to perform mathematical operations such as addition/substraction, matrix multiplication, dot product, etc. That is not possible with regular Python lists. "
      ],
      "metadata": {
        "id": "ZjLONAN5rX8g"
      }
    },
    {
      "cell_type": "code",
      "source": [
        "u1 = np.array([1, 2, 3])\n",
        "u2 = np.array([4, 5, 6])\n",
        "m1 = np.array([[3, 2, 1],[0, 1, 3]])\n",
        "# addition/substraction\n",
        "print(u1 + u2)\n",
        "print(u1 - u2)\n",
        "\n",
        "# multiplication by scalar\n",
        "print(3 * u1)\n",
        "\n",
        "# dot product\n",
        "print(np.dot(u1, u2))\n",
        "\n",
        "# matrix times vector\n",
        "print(np.matmul(m1, u1))\n",
        "print(np.matmul(m1, u2))"
      ],
      "metadata": {
        "colab": {
          "base_uri": "https://localhost:8080/"
        },
        "id": "qwxGAvU6rWpF",
        "outputId": "68e7f385-a7bf-4fbc-aaf1-86db6862e932"
      },
      "execution_count": 11,
      "outputs": [
        {
          "output_type": "stream",
          "name": "stdout",
          "text": [
            "[5 7 9]\n",
            "[-3 -3 -3]\n",
            "[3 6 9]\n",
            "32\n",
            "[10 11]\n",
            "[28 23]\n"
          ]
        }
      ]
    },
    {
      "cell_type": "markdown",
      "source": [
        "## Today's Application: Solving Linear Systems\n",
        "Here we will show two ways of solving linear systems in Python using two different libraries: **NumPy** and **SymPy**. Each library has advantatges and disatvantages.\n",
        "\n",
        "As our first example, let's take a look at the following system\n",
        "$$\\begin{cases}2x+y=9 \\\\ x+3y=2\\end{cases}$$"
      ],
      "metadata": {
        "id": "Lok_dtpftnpj"
      }
    },
    {
      "cell_type": "code",
      "source": [
        "# Using NumPy\n",
        "import numpy as np\n",
        "\n",
        "# we use the variables m, b to represent the system mx = b, and r the result\n",
        "m = np.array([[2,1],[1,3]])\n",
        "b = np.array([9,2])\n",
        "r = np.linalg.solve(m, b)\n",
        "print(r)"
      ],
      "metadata": {
        "colab": {
          "base_uri": "https://localhost:8080/"
        },
        "id": "-dAraibluNcD",
        "outputId": "914a0cbe-33da-42b5-d118-6da14126caba"
      },
      "execution_count": 12,
      "outputs": [
        {
          "output_type": "stream",
          "name": "stdout",
          "text": [
            "[ 5. -1.]\n"
          ]
        }
      ]
    },
    {
      "cell_type": "code",
      "source": [
        "# Using SymPy\n",
        "import sympy as sp\n",
        "\n",
        "# the syntax is different here. We first must tell the computer the symbols we are using as variables. \n",
        "x, y = sp.symbols('x,y')\n",
        "r = sp.solve([2*x + y - 9, x + 3*y - 2])\n",
        "print(r)"
      ],
      "metadata": {
        "colab": {
          "base_uri": "https://localhost:8080/"
        },
        "id": "oYCQEtlvuvRe",
        "outputId": "cda6d112-5e52-4f7d-b371-b4f409cd0db7"
      },
      "execution_count": 13,
      "outputs": [
        {
          "output_type": "stream",
          "name": "stdout",
          "text": [
            "{x: 5, y: -1}\n"
          ]
        }
      ]
    },
    {
      "cell_type": "markdown",
      "source": [
        "Let's look at the example:\n",
        "$$\\begin{cases}3x+y=9 \\\\ 6x+2y=18\\end{cases}$$\n",
        "In this case, system has infinitely many solutions. You can easily see that the second equation is just twice the first one. NumPy will give you an error. SymPy, instead, will give you an answer with $x$ in terms of $y$. "
      ],
      "metadata": {
        "id": "xiDFP4FMuSBW"
      }
    },
    {
      "cell_type": "code",
      "source": [
        "# since we already loaded the libraries, we don't need to import again\n",
        "# using NumPy\n",
        "m = np.array([[3,1],[6,2]])\n",
        "b = np.array([9,18])\n",
        "r = np.linalg.solve(m, b)\n",
        "r"
      ],
      "metadata": {
        "colab": {
          "base_uri": "https://localhost:8080/",
          "height": 392
        },
        "id": "uQgzhYJGuYH7",
        "outputId": "95be96fc-303b-44c8-8cac-33bf7a85543e"
      },
      "execution_count": 14,
      "outputs": [
        {
          "output_type": "error",
          "ename": "LinAlgError",
          "evalue": "ignored",
          "traceback": [
            "\u001b[0;31m---------------------------------------------------------------------------\u001b[0m",
            "\u001b[0;31mLinAlgError\u001b[0m                               Traceback (most recent call last)",
            "\u001b[0;32m<ipython-input-14-c9560187adce>\u001b[0m in \u001b[0;36m<module>\u001b[0;34m()\u001b[0m\n\u001b[1;32m      3\u001b[0m \u001b[0mm\u001b[0m \u001b[0;34m=\u001b[0m \u001b[0mnp\u001b[0m\u001b[0;34m.\u001b[0m\u001b[0marray\u001b[0m\u001b[0;34m(\u001b[0m\u001b[0;34m[\u001b[0m\u001b[0;34m[\u001b[0m\u001b[0;36m3\u001b[0m\u001b[0;34m,\u001b[0m\u001b[0;36m1\u001b[0m\u001b[0;34m]\u001b[0m\u001b[0;34m,\u001b[0m\u001b[0;34m[\u001b[0m\u001b[0;36m6\u001b[0m\u001b[0;34m,\u001b[0m\u001b[0;36m2\u001b[0m\u001b[0;34m]\u001b[0m\u001b[0;34m]\u001b[0m\u001b[0;34m)\u001b[0m\u001b[0;34m\u001b[0m\u001b[0;34m\u001b[0m\u001b[0m\n\u001b[1;32m      4\u001b[0m \u001b[0mb\u001b[0m \u001b[0;34m=\u001b[0m \u001b[0mnp\u001b[0m\u001b[0;34m.\u001b[0m\u001b[0marray\u001b[0m\u001b[0;34m(\u001b[0m\u001b[0;34m[\u001b[0m\u001b[0;36m9\u001b[0m\u001b[0;34m,\u001b[0m\u001b[0;36m18\u001b[0m\u001b[0;34m]\u001b[0m\u001b[0;34m)\u001b[0m\u001b[0;34m\u001b[0m\u001b[0;34m\u001b[0m\u001b[0m\n\u001b[0;32m----> 5\u001b[0;31m \u001b[0mr\u001b[0m \u001b[0;34m=\u001b[0m \u001b[0mnp\u001b[0m\u001b[0;34m.\u001b[0m\u001b[0mlinalg\u001b[0m\u001b[0;34m.\u001b[0m\u001b[0msolve\u001b[0m\u001b[0;34m(\u001b[0m\u001b[0mm\u001b[0m\u001b[0;34m,\u001b[0m \u001b[0mb\u001b[0m\u001b[0;34m)\u001b[0m\u001b[0;34m\u001b[0m\u001b[0;34m\u001b[0m\u001b[0m\n\u001b[0m\u001b[1;32m      6\u001b[0m \u001b[0mr\u001b[0m\u001b[0;34m\u001b[0m\u001b[0;34m\u001b[0m\u001b[0m\n",
            "\u001b[0;32m<__array_function__ internals>\u001b[0m in \u001b[0;36msolve\u001b[0;34m(*args, **kwargs)\u001b[0m\n",
            "\u001b[0;32m/usr/local/lib/python3.7/dist-packages/numpy/linalg/linalg.py\u001b[0m in \u001b[0;36msolve\u001b[0;34m(a, b)\u001b[0m\n\u001b[1;32m    391\u001b[0m     \u001b[0msignature\u001b[0m \u001b[0;34m=\u001b[0m \u001b[0;34m'DD->D'\u001b[0m \u001b[0;32mif\u001b[0m \u001b[0misComplexType\u001b[0m\u001b[0;34m(\u001b[0m\u001b[0mt\u001b[0m\u001b[0;34m)\u001b[0m \u001b[0;32melse\u001b[0m \u001b[0;34m'dd->d'\u001b[0m\u001b[0;34m\u001b[0m\u001b[0;34m\u001b[0m\u001b[0m\n\u001b[1;32m    392\u001b[0m     \u001b[0mextobj\u001b[0m \u001b[0;34m=\u001b[0m \u001b[0mget_linalg_error_extobj\u001b[0m\u001b[0;34m(\u001b[0m\u001b[0m_raise_linalgerror_singular\u001b[0m\u001b[0;34m)\u001b[0m\u001b[0;34m\u001b[0m\u001b[0;34m\u001b[0m\u001b[0m\n\u001b[0;32m--> 393\u001b[0;31m     \u001b[0mr\u001b[0m \u001b[0;34m=\u001b[0m \u001b[0mgufunc\u001b[0m\u001b[0;34m(\u001b[0m\u001b[0ma\u001b[0m\u001b[0;34m,\u001b[0m \u001b[0mb\u001b[0m\u001b[0;34m,\u001b[0m \u001b[0msignature\u001b[0m\u001b[0;34m=\u001b[0m\u001b[0msignature\u001b[0m\u001b[0;34m,\u001b[0m \u001b[0mextobj\u001b[0m\u001b[0;34m=\u001b[0m\u001b[0mextobj\u001b[0m\u001b[0;34m)\u001b[0m\u001b[0;34m\u001b[0m\u001b[0;34m\u001b[0m\u001b[0m\n\u001b[0m\u001b[1;32m    394\u001b[0m \u001b[0;34m\u001b[0m\u001b[0m\n\u001b[1;32m    395\u001b[0m     \u001b[0;32mreturn\u001b[0m \u001b[0mwrap\u001b[0m\u001b[0;34m(\u001b[0m\u001b[0mr\u001b[0m\u001b[0;34m.\u001b[0m\u001b[0mastype\u001b[0m\u001b[0;34m(\u001b[0m\u001b[0mresult_t\u001b[0m\u001b[0;34m,\u001b[0m \u001b[0mcopy\u001b[0m\u001b[0;34m=\u001b[0m\u001b[0;32mFalse\u001b[0m\u001b[0;34m)\u001b[0m\u001b[0;34m)\u001b[0m\u001b[0;34m\u001b[0m\u001b[0;34m\u001b[0m\u001b[0m\n",
            "\u001b[0;32m/usr/local/lib/python3.7/dist-packages/numpy/linalg/linalg.py\u001b[0m in \u001b[0;36m_raise_linalgerror_singular\u001b[0;34m(err, flag)\u001b[0m\n\u001b[1;32m     86\u001b[0m \u001b[0;34m\u001b[0m\u001b[0m\n\u001b[1;32m     87\u001b[0m \u001b[0;32mdef\u001b[0m \u001b[0m_raise_linalgerror_singular\u001b[0m\u001b[0;34m(\u001b[0m\u001b[0merr\u001b[0m\u001b[0;34m,\u001b[0m \u001b[0mflag\u001b[0m\u001b[0;34m)\u001b[0m\u001b[0;34m:\u001b[0m\u001b[0;34m\u001b[0m\u001b[0;34m\u001b[0m\u001b[0m\n\u001b[0;32m---> 88\u001b[0;31m     \u001b[0;32mraise\u001b[0m \u001b[0mLinAlgError\u001b[0m\u001b[0;34m(\u001b[0m\u001b[0;34m\"Singular matrix\"\u001b[0m\u001b[0;34m)\u001b[0m\u001b[0;34m\u001b[0m\u001b[0;34m\u001b[0m\u001b[0m\n\u001b[0m\u001b[1;32m     89\u001b[0m \u001b[0;34m\u001b[0m\u001b[0m\n\u001b[1;32m     90\u001b[0m \u001b[0;32mdef\u001b[0m \u001b[0m_raise_linalgerror_nonposdef\u001b[0m\u001b[0;34m(\u001b[0m\u001b[0merr\u001b[0m\u001b[0;34m,\u001b[0m \u001b[0mflag\u001b[0m\u001b[0;34m)\u001b[0m\u001b[0;34m:\u001b[0m\u001b[0;34m\u001b[0m\u001b[0;34m\u001b[0m\u001b[0m\n",
            "\u001b[0;31mLinAlgError\u001b[0m: Singular matrix"
          ]
        }
      ]
    },
    {
      "cell_type": "code",
      "source": [
        "# using SymPy.\n",
        "r = sp.solve([3*x + y - 9, 6*x + 2*y - 18])\n",
        "print(r)"
      ],
      "metadata": {
        "colab": {
          "base_uri": "https://localhost:8080/"
        },
        "id": "GKZ5tv-IwPFL",
        "outputId": "5f141b2e-0df0-4249-ad3c-05130477da5f"
      },
      "execution_count": null,
      "outputs": [
        {
          "output_type": "stream",
          "name": "stdout",
          "text": [
            "{x: 3 - y/3}\n"
          ]
        }
      ]
    },
    {
      "cell_type": "markdown",
      "source": [
        "## Homework\n",
        "Some of the homework problems require you to solve linear systems. You may use the cells below to do that."
      ],
      "metadata": {
        "id": "M6vWhpbysz83"
      }
    },
    {
      "cell_type": "code",
      "source": [
        "# Use this cell for calculations"
      ],
      "metadata": {
        "id": "p3-X0CoRs3HS"
      },
      "execution_count": 23,
      "outputs": []
    },
    {
      "cell_type": "code",
      "source": [
        "# Use this cell for calculations"
      ],
      "metadata": {
        "id": "unbzKNOQwdhS"
      },
      "execution_count": null,
      "outputs": []
    },
    {
      "cell_type": "code",
      "source": [
        "# Use this cell for calculations"
      ],
      "metadata": {
        "id": "iwFjsxV1tPWO"
      },
      "execution_count": null,
      "outputs": []
    }
  ]
}
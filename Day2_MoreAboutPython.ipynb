{
  "nbformat": 4,
  "nbformat_minor": 0,
  "metadata": {
    "colab": {
      "name": "Day2_MoreAboutPython.ipynb",
      "provenance": [],
      "authorship_tag": "ABX9TyOYj8sXLZ9nzwnAMktkJ/fi",
      "include_colab_link": true
    },
    "kernelspec": {
      "name": "python3",
      "display_name": "Python 3"
    },
    "language_info": {
      "name": "python"
    }
  },
  "cells": [
    {
      "cell_type": "markdown",
      "metadata": {
        "id": "view-in-github",
        "colab_type": "text"
      },
      "source": [
        "<a href=\"https://colab.research.google.com/github/RodericGuigoCorominas/datascience/blob/main/Day2_MoreAboutPython.ipynb\" target=\"_parent\"><img src=\"https://colab.research.google.com/assets/colab-badge.svg\" alt=\"Open In Colab\"/></a>"
      ]
    },
    {
      "cell_type": "markdown",
      "source": [
        "# Functions, loops, and more"
      ],
      "metadata": {
        "id": "hGogxa8SSalE"
      }
    },
    {
      "cell_type": "code",
      "execution_count": null,
      "metadata": {
        "id": "3LT-FQpESRjD"
      },
      "outputs": [],
      "source": [
        ""
      ]
    }
  ]
}